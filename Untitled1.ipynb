{
  "nbformat": 4,
  "nbformat_minor": 0,
  "metadata": {
    "colab": {
      "provenance": [],
      "authorship_tag": "ABX9TyMRgCp271HGwPwhkdDSsC7F",
      "include_colab_link": true
    },
    "kernelspec": {
      "name": "python3",
      "display_name": "Python 3"
    },
    "language_info": {
      "name": "python"
    }
  },
  "cells": [
    {
      "cell_type": "markdown",
      "metadata": {
        "id": "view-in-github",
        "colab_type": "text"
      },
      "source": [
        "<a href=\"https://colab.research.google.com/github/germanapriscila/secret_word_game/blob/main/Untitled1.ipynb\" target=\"_parent\"><img src=\"https://colab.research.google.com/assets/colab-badge.svg\" alt=\"Open In Colab\"/></a>"
      ]
    },
    {
      "cell_type": "code",
      "execution_count": null,
      "metadata": {
        "colab": {
          "base_uri": "https://localhost:8080/"
        },
        "id": "NEEMIVd1PV4l",
        "outputId": "00f8c09f-6673-4112-cd41-ca8ad2c9a4e3"
      },
      "outputs": [
        {
          "output_type": "stream",
          "name": "stdout",
          "text": [
            "A palavra secreta tem 6 letras\n",
            "Dica: armazenar e processar grandes volumes de dados em clusters distribuídos.\n",
            "git\n",
            "Errou.. A palavra secreta é HADOOP\n"
          ]
        }
      ],
      "source": [
        "import requests\n",
        "import random\n",
        "\n",
        "url = 'https://raw.githubusercontent.com/guilhermeonrails/api-imersao-ia/main/words.json'\n",
        "resposta = requests.get(url)\n",
        "data = resposta.json()\n",
        "valor_secreto = random.choice(data)\n",
        "palavra_secreta = valor_secreto['palavra']\n",
        "dica = valor_secreto['dica']\n",
        "print(f'A palavra secreta tem {len(palavra_secreta)} letras')\n",
        "print(f'Dica: {dica}')\n",
        "palpite = input()\n",
        "if palpite == palavra_secreta:\n",
        "  print('Acertou')\n",
        "else:\n",
        "  print(f'Errou.. A palavra secreta é {palavra_secreta.upper()}')"
      ]
    }
  ]
}